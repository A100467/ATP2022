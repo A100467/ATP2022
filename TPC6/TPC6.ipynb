{
 "cells": [
  {
   "cell_type": "code",
   "execution_count": 2,
   "metadata": {},
   "outputs": [],
   "source": [
    "import aulap6"
   ]
  },
  {
   "cell_type": "code",
   "execution_count": 3,
   "metadata": {},
   "outputs": [],
   "source": [
    "obras = aulap6.leobras(\"obras.csv\")\n",
    "def menu():\n",
    "    print(\"\"\" Menu:\n",
    "    (1) Leitura da base de dados \n",
    "    (2) Número de obras catalogadas\n",
    "    (3) Lista das obras ordenada pelos seus títulos\n",
    "    (4) Lista das obras ordenada pelo ano\n",
    "    (5) Lista de títulos por ano\n",
    "    (6) Lista ordenada dos compositores\n",
    "    (7) Distribuição das obras por período\n",
    "    (8) Distribuição das obras por ano\n",
    "    (9) Distribuição das obras por compositor\n",
    "    (10) Representação gráfica das distribuições\n",
    "    (11) Lista de compositores e a lista de obras realizadas de cada compositor\n",
    "    (0) Sair)\n",
    "    \"\"\") \n",
    "    return \n",
    "\n",
    "escolha = int(input(\"Introduza o valor da função que deseja observar.\"))\n",
    "while escolha != 0:\n",
    "    menu()\n",
    "    if escolha ==1:\n",
    "        aulap6.imprime(obras)\n",
    "    elif escolha ==2:\n",
    "        aulap6.tamanhoObras(obras)\n",
    "    elif escolha ==3:\n",
    "        aulap6.titAno(obras)\n",
    "    elif escolha ==4:\n",
    "        aulap6.titAno_2(obras)\n",
    "    elif escolha ==5:\n",
    "        aulap6.titporAno(obras)\n",
    "    elif escolha ==6:\n",
    "        aulap6.ordemCompositores(obras)\n",
    "    elif escolha ==7:\n",
    "        aulap6.distPeriodo(obras)\n",
    "    elif escolha ==8:\n",
    "        aulap6.distAno(obras)\n",
    "    elif escolha ==9:\n",
    "        aulap6.distCompositor(obras)\n",
    "    elif escolha ==10:\n",
    "        aulap6.desenhograficos(obras)\n",
    "if escolha == 0:\n",
    "    print(\"Escolheu sair do menu, até à próxima.\")\n"
   ]
  },
  {
   "cell_type": "code",
   "execution_count": null,
   "metadata": {},
   "outputs": [],
   "source": []
  }
 ],
 "metadata": {
  "kernelspec": {
   "display_name": "Python 3.10.7 64-bit",
   "language": "python",
   "name": "python3"
  },
  "language_info": {
   "codemirror_mode": {
    "name": "ipython",
    "version": 3
   },
   "file_extension": ".py",
   "mimetype": "text/x-python",
   "name": "python",
   "nbconvert_exporter": "python",
   "pygments_lexer": "ipython3",
   "version": "3.10.7"
  },
  "orig_nbformat": 4,
  "vscode": {
   "interpreter": {
    "hash": "b225b3f9030328401eade13e0a36b7a56e6fa1091d7c2e1d49ae5abb11e808b7"
   }
  }
 },
 "nbformat": 4,
 "nbformat_minor": 2
}
