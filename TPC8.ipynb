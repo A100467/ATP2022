{
 "cells": [
  {
   "cell_type": "markdown",
   "metadata": {},
   "source": [
    "### tpc1.a) Recebe duas strings, _s1_ e _s2_, e retorna o comprimento da substring inicial de _s1_ que não contem nenhum caráter de _s2_:"
   ]
  },
  {
   "cell_type": "code",
   "execution_count": null,
   "metadata": {},
   "outputs": [],
   "source": [
    "def inicDiferente(s1, s2):\n",
    "    res = 0\n",
    "    for letter in s1:\n",
    "        if letter not in s2:\n",
    "            res += 1\n",
    "        else:\n",
    "            return res\n",
    "\n",
    "inicDiferente(\"Está um bom dia...\", \"Hoje é um dia alegre.\")"
   ]
  },
  {
   "cell_type": "markdown",
   "metadata": {},
   "source": [
    "### tpc1.b) Recebe um parâmetro _n_ e lê _n_ números inteiros; no fim retorna quantos dos números lidos são superiores à média dos números lidos:"
   ]
  },
  {
   "cell_type": "code",
   "execution_count": null,
   "metadata": {},
   "outputs": [],
   "source": [
    "def acimaMedia(n):   \n",
    "    res = 0\n",
    "    lista = []\n",
    "    superiores = []\n",
    "    media = 0\n",
    "    i = 0\n",
    "    while i<n:\n",
    "        numero = int(input(\"Introduza um número.\"))\n",
    "        lista.append(numero)\n",
    "        i = i+1\n",
    "        res = res + numero\n",
    "    media = res/len(lista)\n",
    "    for num in lista:\n",
    "        if num > media:\n",
    "            superiores.append(num)\n",
    "    return superiores\n",
    "\n",
    "acimaMedia(5)"
   ]
  },
  {
   "cell_type": "markdown",
   "metadata": {},
   "source": [
    "### tpc1.c) Faz o merge de duas listas ordenadas, retornando uma lista ordenada com os elementos das duas listas (__não podes usar nenhuma função de ordenação do Python__):"
   ]
  },
  {
   "cell_type": "code",
   "execution_count": null,
   "metadata": {},
   "outputs": [],
   "source": [
    "def merge(l1, l2): \n",
    "        l3=l1+l2\n",
    "        for n in range(len(l3)):\n",
    "                n=1\n",
    "                while n<len(l3):\n",
    "                        if l3[n]<l3[n-1]:\n",
    "                                l3[n],l3[n-1]=l3[n-1],l3[n]\n",
    "                        n=n+1\n",
    "        return l3\n",
    "\n",
    "merge([1,2,6,9], [3,4,7,12])\n",
    "# Resultado esperado: [1,2,3,4,6,7,9,12]"
   ]
  },
  {
   "cell_type": "markdown",
   "metadata": {},
   "source": [
    "### tpc1.d) Recebe o nome de dois ficheiros de texto, _f1_ e _f2_, e indica se são iguais (__True__) no seu conteúdo ou se são diferentes (__False__):"
   ]
  },
  {
   "cell_type": "code",
   "execution_count": null,
   "metadata": {},
   "outputs": [],
   "source": [
    "def figuais(f1, f2):\n",
    "    file1 = open(f1)\n",
    "    file2 = open(f2)\n",
    "    lista1 = []\n",
    "    lista2 = []\n",
    "    res = False\n",
    "    for linha in file1:\n",
    "        lista1.append(linha)\n",
    "    for linha in file2:\n",
    "        lista2.append(linha)\n",
    "\n",
    "    print(lista1)\n",
    "    print(lista2)\n",
    "    if len(lista1)==len(lista2):\n",
    "        for i in range(len(lista1)):\n",
    "            if lista1[i]==lista2[i]:\n",
    "                res = True\n",
    "    else:\n",
    "        resp = False\n",
    "    file1.close()\n",
    "    file2.close()\n",
    "    return res\n",
    "\n",
    "#print(figuais(\"texto1.txt\", \"texto1.txt\"))\n",
    "#print(figuais(\"texto1.txt\", \"texto2.txt\"))"
   ]
  },
  {
   "cell_type": "markdown",
   "metadata": {},
   "source": [
    "## Questão 2: Gestão de uma Cinemateca\n",
    "\n",
    "Analise as seguintes estruturas de dados que materializam o modelo de uma cinemateca:"
   ]
  },
  {
   "cell_type": "code",
   "execution_count": null,
   "metadata": {},
   "outputs": [],
   "source": [
    "# Cinemateca = [Filme]\n",
    "# Pub = (Título, Ano, Elenco, Géneros)\n",
    "# Título = String\n",
    "# Ano = Int\n",
    "# Elenco = [Ator]\n",
    "# Ator = String\n",
    "# Géneros = [Género]\n",
    "# Género = String\n",
    "Filme1 = (\"Meet the Parents\", 2000, [\"Ben Stiller\",\"Robert De Niro\",\n",
    "      \"Blythe Danner\",\"Teri Polo\",\"Owen Wilson\"], [\"Comedy\", \"Drama\"])\n",
    "Filme2 = (\"Men of Honor\", 2000, [\"Robert De Niro\",\"Cuba Gooding, Jr.\",\n",
    "      \"Charlize Theron\"], [\"Biography\", \"Drama\", \"Thriller\"])\n",
    "Filme3 = (\"Analyze That\", 2002, [\"Robert De Niro\",\"Billy Crystal\",\n",
    "      \"Lisa Kudrow\"], [\"Comedy\"])\n",
    "CineUM = [Filme1, Filme2, Filme3]"
   ]
  },
  {
   "cell_type": "markdown",
   "metadata": {},
   "source": [
    "### tpc2.a)  Devolve uma lista dos atores participantes nos filmes armazenados, ordenada alfabeticamente e sem repetições:"
   ]
  },
  {
   "cell_type": "code",
   "execution_count": null,
   "metadata": {},
   "outputs": [],
   "source": [
    "def atores(cinemateca):\n",
    "    listaAtores=[]\n",
    "    for _,_,elenco,_ in cinemateca:\n",
    "        for ator in elenco:\n",
    "            if ator not in listaAtores:\n",
    "                listaAtores.append(ator)\n",
    "    listaAtores.sort()\n",
    "    return listaAtores\n",
    "\n",
    "print(atores(CineUM))\n",
    "# Resultado esperado: ['Ben Stiller', 'Billy Crystal', 'Blythe Danner', 'Charlize Theron', 'Cuba Gooding, Jr.', 'Lisa Kudrow', 'Owen Wilson', 'Robert De Niro', 'Teri Polo']"
   ]
  },
  {
   "cell_type": "markdown",
   "metadata": {},
   "source": [
    "### tpc2.b)  Devolve uma lista de todos os títulos dos filmes, em ordem alfabética, e de um determinado género passado como argumento:"
   ]
  },
  {
   "cell_type": "code",
   "execution_count": null,
   "metadata": {},
   "outputs": [],
   "source": [
    "def listarPorGenero(cinemateca, genero):\n",
    "    listaGeneros=[]\n",
    "    for titulo,_,_,generos in cinemateca:\n",
    "        if genero in generos:\n",
    "            listaGeneros.append(titulo)\n",
    "    listaGeneros.sort()\n",
    "    return listaGeneros\n",
    "\n",
    "print(listarPorGenero(CineUM, \"Comedy\"))\n",
    "# Resultado esperado: ['Analyze That', 'Meet the Parents']"
   ]
  },
  {
   "cell_type": "markdown",
   "metadata": {},
   "source": [
    "### tpc2.c)  Devolve o título do filme com o maior elenco:"
   ]
  },
  {
   "cell_type": "code",
   "execution_count": null,
   "metadata": {},
   "outputs": [],
   "source": [
    "def maiorElenco( cinemateca ):\n",
    "    maior=0\n",
    "    for titulo,_,elenco,_ in cinemateca:\n",
    "        if len(elenco)> maior:\n",
    "            maior=len(elenco)\n",
    "            filme= titulo\n",
    "    return filme\n",
    "\n",
    "print(maiorElenco(CineUM))\n",
    "# Resultado esperado: Meet the Parents"
   ]
  },
  {
   "cell_type": "markdown",
   "metadata": {},
   "source": [
    "### tpc2.d)  Calcula a distribuição de filmes por Género:"
   ]
  },
  {
   "cell_type": "code",
   "execution_count": null,
   "metadata": {},
   "outputs": [],
   "source": [
    "def filmePorGenero( cinemateca ):\n",
    "    distrib={}\n",
    "    for _,_,_,genero in cinemateca:\n",
    "        i=0\n",
    "        while i<len(genero):\n",
    "            if genero[i] in distrib.keys():\n",
    "                distrib[genero[i]]+=1\n",
    "            else:\n",
    "                distrib[genero[i]]=1\n",
    "            i=i+1\n",
    "    return distrib\n",
    "filmePorGenero(CineUM)"
   ]
  },
  {
   "cell_type": "markdown",
   "metadata": {},
   "source": [
    "### tpc2.e)  Represente num gráfico de barras a distribuição calculada na alínea anterior (pode usar o material que entender das aulas):"
   ]
  },
  {
   "cell_type": "code",
   "execution_count": null,
   "metadata": {},
   "outputs": [],
   "source": [
    "def grafico(cinemateca):\n",
    "    import matplotlib.pyplot as plt\n",
    "    distribuicao=filmePorGenero(cinemateca)\n",
    "\n",
    "    plt.bar(distribuicao.keys(),distribuicao.values())\n",
    "    plt.xticks([x for x in range(0, len(distribuicao.keys()))], distribuicao.keys(), rotation='vertical')\n",
    "    plt.title(\"Distribuição de Filmes por Género\")\n",
    "    plt.xlabel(\"Géneros\")\n",
    "    plt.ylabel(\"Número de Filmes\")\n",
    "    plt.show()\n",
    "    return\n",
    "grafico(CineUM)"
   ]
  }
 ],
 "metadata": {
  "kernelspec": {
   "display_name": "Python 3.10.7 64-bit",
   "language": "python",
   "name": "python3"
  },
  "language_info": {
   "name": "python",
   "version": "3.10.7"
  },
  "orig_nbformat": 4,
  "vscode": {
   "interpreter": {
    "hash": "b225b3f9030328401eade13e0a36b7a56e6fa1091d7c2e1d49ae5abb11e808b7"
   }
  }
 },
 "nbformat": 4,
 "nbformat_minor": 2
}
