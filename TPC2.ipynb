{
 "cells": [
  {
   "cell_type": "code",
   "execution_count": null,
   "metadata": {},
   "outputs": [],
   "source": [
    "#computador pensa num número(entre 0 e 100) e o utilizador tenta adivinhar\n",
    "#n=adivinhas do utilizador\n",
    "#x=número do computador\n",
    "\n",
    "import random\n",
    "x = random.randint(0,100)\n",
    "n = int(input(\"Introduza um número\"))\n",
    "tentativas = 0\n",
    "while(n != x):\n",
    "         if n > x:\n",
    "            print(\"O número que pensei é Menor\")\n",
    "         else:\n",
    "            print(\"O número que pensei é Maior\")\n",
    "         n = int(input(\"Introduza um número n\"))\n",
    "         tentativas = 1 + tentativas\n",
    "if n == x:\n",
    "    print(\"Acertou\")\n",
    "    tentativas = 1 + tentativas\n",
    "print(\"O número de tentativas foi\", N)\n"
   ]
  },
  {
   "cell_type": "code",
   "execution_count": null,
   "metadata": {},
   "outputs": [],
   "source": [
    "#computador adivinha número(entre 0 e 100) escolhido pelo utilizador\n",
    "#x=adivinhas do computador\n",
    "#N=comparação do número adivinhado ao escolhido\n",
    "import random\n",
    "tentativas = 0 \n",
    "min = 0\n",
    "max = 100\n",
    "print(\"Pense num número de 0 a 100\")\n",
    "x = random.randrange(0,101)\n",
    "print(x)\n",
    "N = input(\"O seu número é maior, menor ou igual?\")\n",
    "while (N != \"igual\"):\n",
    "    if N == \"maior\":\n",
    "        min = x\n",
    "        x = ((max+min)//2)\n",
    "        print(x)\n",
    "    if N == \"menor\":\n",
    "        max = x\n",
    "        x = ((max+min)//2)\n",
    "        print(x)\n",
    "    tentativas = tentativas + 1\n",
    "    N = input(\"O seu número é maior, menor ou igual?\")\n",
    "tentativas = tentativas + 1\n",
    "print(\"O número de tentativas foi\", tentativas )"
   ]
  }
 ],
 "metadata": {
  "kernelspec": {
   "display_name": "Python 3.10.7 64-bit",
   "language": "python",
   "name": "python3"
  },
  "language_info": {
   "name": "python",
   "version": "3.10.7"
  },
  "orig_nbformat": 4,
  "vscode": {
   "interpreter": {
    "hash": "b225b3f9030328401eade13e0a36b7a56e6fa1091d7c2e1d49ae5abb11e808b7"
   }
  }
 },
 "nbformat": 4,
 "nbformat_minor": 2
}
