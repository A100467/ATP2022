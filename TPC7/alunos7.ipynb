{
 "cells": [
  {
   "cell_type": "markdown",
   "metadata": {},
   "source": [
    "### TPC7: Análise de dados: Alunos\n",
    "\n",
    "Descarregue o ficheiro de dados: `alunos.csv`\n",
    "Crie um programa em Python, conjunto de funções, que responda às seguintes questões:\n",
    "* Crie uma função que lê a informação do ficheiro para um modelo, previamente pensado em memória;\n",
    "* Crie uma função que calcula a distribuição dos alunos por curso;\n",
    "* Crie uma função que calcula a média das notas de cada aluno e acrescenta essa nova coluna no dataset em memória;\n",
    "* Considere os seguintes escalões de notas: E [1-4], D [5-8], C [9-12], B [13-16], A [17-20], acrescente uma coluna ao dataset com o escalão correspondente a cada aluno;\n",
    "* Crie uma distribuição dos alunos por escalão;\n",
    "* Crie uma função que apresenta na forma dum gráfico de linha uma distribuição;\n",
    "* Crie uma função que imprime na forma de uma tabela uma distribuição;\n",
    "* Especifique um programa que, ciclicamente, apresenta um menu com todas funcionalidades ao utilizador."
   ]
  },
  {
   "cell_type": "code",
   "execution_count": 4,
   "metadata": {},
   "outputs": [
    {
     "name": "stdout",
     "output_type": "stream",
     "text": [
      " Menu:\n",
      "    (1) Leitura da base de dados \n",
      "    (2) Distribuição dos alunos por curso\n",
      "    (3) Distribuição dos alunos por escalões\n",
      "    (4) Observação dos gráficos das distribuições\n",
      "    (0) Sair)\n",
      "    \n"
     ]
    }
   ],
   "source": [
    "import alunos7\n",
    "listaAlunos = alunos7.leAlunos(\"alunos.csv\")\n",
    "\n",
    "def menu():\n",
    "    print(\"\"\" Menu:\n",
    "    (1) Leitura da base de dados \n",
    "    (2) Distribuição dos alunos por curso\n",
    "    (3) Distribuição dos alunos por escalões\n",
    "    (4) Observação dos gráficos das distribuições\n",
    "    (0) Sair)\n",
    "    \"\"\") \n",
    "    return \n",
    "menu()\n",
    "escolha = int(input(\"Introduza o valor da função que deseja observar.\"))\n",
    "while escolha != 0:\n",
    "    menu()\n",
    "    if escolha ==1:\n",
    "        print(listaAlunos)\n",
    "    elif escolha ==2:\n",
    "        alunos7.distribCurso(listaAlunos)\n",
    "    elif escolha ==3:\n",
    "        alunos7.distribEscalao(listaAlunos)\n",
    "    elif escolha ==4:\n",
    "        alunos7.menuGráficos(listaAlunos)\n",
    "if escolha == 0:\n",
    "    print(\"Escolheu sair do menu.\")\n"
   ]
  }
 ],
 "metadata": {
  "kernelspec": {
   "display_name": "Python 3.10.7 64-bit",
   "language": "python",
   "name": "python3"
  },
  "language_info": {
   "codemirror_mode": {
    "name": "ipython",
    "version": 3
   },
   "file_extension": ".py",
   "mimetype": "text/x-python",
   "name": "python",
   "nbconvert_exporter": "python",
   "pygments_lexer": "ipython3",
   "version": "3.10.7"
  },
  "orig_nbformat": 4,
  "vscode": {
   "interpreter": {
    "hash": "b225b3f9030328401eade13e0a36b7a56e6fa1091d7c2e1d49ae5abb11e808b7"
   }
  }
 },
 "nbformat": 4,
 "nbformat_minor": 2
}
